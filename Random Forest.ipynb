{
 "cells": [
  {
   "cell_type": "markdown",
   "id": "5f18c286-1b92-4be3-b8e7-c054260683a2",
   "metadata": {},
   "source": [
    "<h2>Random Forest</h2>"
   ]
  },
  {
   "cell_type": "code",
   "execution_count": 1,
   "id": "9b12d802",
   "metadata": {},
   "outputs": [],
   "source": [
    "# load data\n",
    "import matplotlib.pyplot as plt\n",
    "import matplotlib\n",
    "import numpy as np\n",
    "from math import *\n",
    "from sklearn.tree import DecisionTreeClassifier\n",
    "from sklearn.inspection import DecisionBoundaryDisplay\n",
    "from sklearn.model_selection import train_test_split\n",
    "from sklearn import metrics\n",
    "from sklearn.ensemble import RandomForestClassifier\n",
    "from sklearn.model_selection import GridSearchCV\n",
    "\n",
    "data = np.loadtxt('data_2.csv', delimiter = ',')\n",
    "np.random.shuffle(data)\n",
    "\n",
    "X = np.delete(data, 6, axis = 1) # pred[i][j]\n",
    "y = np.delete(data, [0, 1, 2, 3, 4, 5], axis = 1) # klase[i][0] - classes 0 and 1\n",
    "\n",
    "def column(matrix, p):\n",
    "    return np.array([row[p] for row in matrix])"
   ]
  },
  {
   "cell_type": "code",
   "execution_count": 2,
   "id": "e0b30de2",
   "metadata": {},
   "outputs": [],
   "source": [
    "X_train, X_test, y_train, y_test = train_test_split(X, y, test_size = 0.3) # 70% (499) training and 30% (215) test\n",
    "\n",
    "n_estimators = [int(x) for x in np.linspace(start = 10, stop = 150, num = 20)] # 10, 150, 20\n",
    "\n",
    "max_features = ['sqrt', 'log2', 2, 3, 4, 5, 6] # sqrt, log2, 2, 3, 4, 5, 6\n",
    "\n",
    "max_depth = [int(x) for x in np.linspace(3, 50, num = 20)] # 5, 50, 20\n",
    "max_depth.append(None)\n",
    "\n",
    "param_grid = {'n_estimators': n_estimators, 'max_features': max_features, 'max_depth': max_depth}"
   ]
  },
  {
   "cell_type": "code",
   "execution_count": 3,
   "id": "34e334ca",
   "metadata": {},
   "outputs": [
    {
     "name": "stdout",
     "output_type": "stream",
     "text": [
      "Fitting 5 folds for each of 2940 candidates, totalling 14700 fits\n"
     ]
    },
    {
     "data": {
      "text/plain": [
       "{'max_depth': 3, 'max_features': 2, 'n_estimators': 39}"
      ]
     },
     "execution_count": 3,
     "metadata": {},
     "output_type": "execute_result"
    }
   ],
   "source": [
    "rf = RandomForestClassifier()\n",
    "\n",
    "rf_random = GridSearchCV(estimator = rf, param_grid = param_grid, cv = 5, n_jobs = -1, verbose = 2)\n",
    "\n",
    "rf_random.fit(X_train, y_train.ravel())\n",
    "\n",
    "rf_random.best_params_"
   ]
  },
  {
   "cell_type": "code",
   "execution_count": 4,
   "id": "1081166e",
   "metadata": {},
   "outputs": [
    {
     "name": "stdout",
     "output_type": "stream",
     "text": [
      "Tacnost: 79.53488372093022\n"
     ]
    }
   ],
   "source": [
    "optimal_max_depth = 7             # 5 optimal, 5\n",
    "optimal_max_features = 2          # 2 optimal, 2\n",
    "optimal_n_estimators = 61         # 24 optimal, 113\n",
    "\n",
    "clf = RandomForestClassifier(max_depth = optimal_max_depth, max_features = optimal_max_features, n_estimators = optimal_n_estimators)\n",
    "\n",
    "clf.fit(X_train, y_train.ravel())\n",
    "\n",
    "y_pred = clf.predict(X_test)\n",
    "\n",
    "print(\"Tacnost:\", metrics.accuracy_score(y_test, y_pred) * 100) # 0.8558139534883721 is the best possible accuracy"
   ]
  },
  {
   "cell_type": "code",
   "execution_count": 5,
   "id": "cee6021a",
   "metadata": {},
   "outputs": [
    {
     "name": "stdout",
     "output_type": "stream",
     "text": [
      "Tacnost za dubinu 3 je: 77.67441860465117\n",
      "Tacnost za dubinu 5 je: 80.0\n",
      "Tacnost za dubinu 7 je: 81.86046511627907\n",
      "Tacnost za dubinu 10 je: 81.86046511627907\n",
      "Tacnost za dubinu 12 je: 79.53488372093022\n",
      "Tacnost za dubinu 15 je: 80.0\n",
      "Tacnost za dubinu 17 je: 79.06976744186046\n",
      "Tacnost za dubinu 20 je: 79.06976744186046\n",
      "Tacnost za dubinu 22 je: 79.53488372093022\n",
      "Tacnost za dubinu 25 je: 79.53488372093022\n",
      "Tacnost za dubinu 27 je: 78.6046511627907\n",
      "Tacnost za dubinu 30 je: 78.6046511627907\n",
      "Tacnost za dubinu 32 je: 79.53488372093022\n",
      "Tacnost za dubinu 35 je: 78.6046511627907\n",
      "Tacnost za dubinu 37 je: 79.53488372093022\n",
      "Tacnost za dubinu 40 je: 79.53488372093022\n",
      "Tacnost za dubinu 42 je: 79.53488372093022\n",
      "Tacnost za dubinu 45 je: 78.13953488372093\n",
      "Tacnost za dubinu 47 je: 78.13953488372093\n",
      "Tacnost za dubinu 50 je: 78.6046511627907\n"
     ]
    },
    {
     "data": {
      "text/plain": [
       "([<matplotlib.axis.XTick at 0x1fa04e5bd30>,\n",
       "  <matplotlib.axis.XTick at 0x1fa04e5b580>,\n",
       "  <matplotlib.axis.XTick at 0x1fa04c9cbe0>,\n",
       "  <matplotlib.axis.XTick at 0x1fa04669910>,\n",
       "  <matplotlib.axis.XTick at 0x1fa7f708760>,\n",
       "  <matplotlib.axis.XTick at 0x1fa04c49af0>,\n",
       "  <matplotlib.axis.XTick at 0x1fa04e07d30>,\n",
       "  <matplotlib.axis.XTick at 0x1fa0463e490>,\n",
       "  <matplotlib.axis.XTick at 0x1fa04aaac70>,\n",
       "  <matplotlib.axis.XTick at 0x1fa04f059a0>,\n",
       "  <matplotlib.axis.XTick at 0x1fa04aaa130>,\n",
       "  <matplotlib.axis.XTick at 0x1fa04c49280>,\n",
       "  <matplotlib.axis.XTick at 0x1fa04fa4610>,\n",
       "  <matplotlib.axis.XTick at 0x1fa04fa4040>,\n",
       "  <matplotlib.axis.XTick at 0x1fa04f9e250>,\n",
       "  <matplotlib.axis.XTick at 0x1fa04f9e2e0>,\n",
       "  <matplotlib.axis.XTick at 0x1fa050034c0>,\n",
       "  <matplotlib.axis.XTick at 0x1fa04f9e6d0>,\n",
       "  <matplotlib.axis.XTick at 0x1fa04f05730>,\n",
       "  <matplotlib.axis.XTick at 0x1fa050038e0>],\n",
       " [Text(0, 0, ''),\n",
       "  Text(0, 0, ''),\n",
       "  Text(0, 0, ''),\n",
       "  Text(0, 0, ''),\n",
       "  Text(0, 0, ''),\n",
       "  Text(0, 0, ''),\n",
       "  Text(0, 0, ''),\n",
       "  Text(0, 0, ''),\n",
       "  Text(0, 0, ''),\n",
       "  Text(0, 0, ''),\n",
       "  Text(0, 0, ''),\n",
       "  Text(0, 0, ''),\n",
       "  Text(0, 0, ''),\n",
       "  Text(0, 0, ''),\n",
       "  Text(0, 0, ''),\n",
       "  Text(0, 0, ''),\n",
       "  Text(0, 0, ''),\n",
       "  Text(0, 0, ''),\n",
       "  Text(0, 0, ''),\n",
       "  Text(0, 0, '')])"
      ]
     },
     "execution_count": 5,
     "metadata": {},
     "output_type": "execute_result"
    },
    {
     "data": {
      "image/png": "[encoded data removed]",
      "text/plain": [
       "<Figure size 640x480 with 1 Axes>"
      ]
     },
     "metadata": {},
     "output_type": "display_data"
    }
   ],
   "source": [
    "optimal_max_depth_pt2 = np.linspace(3, 50, 20, dtype = int)\n",
    "y_osa = []\n",
    "x_osa = optimal_max_depth_pt2\n",
    "\n",
    "for i in range(0, len(optimal_max_depth_pt2)):\n",
    "    clf = RandomForestClassifier(max_depth = optimal_max_depth_pt2[i], max_features = optimal_max_features, n_estimators = optimal_n_estimators)\n",
    "\n",
    "    clf.fit(X_train, y_train.ravel())\n",
    "\n",
    "    y_pred = clf.predict(X_test)\n",
    "\n",
    "    print(\"Tacnost za dubinu\", optimal_max_depth_pt2[i], \"je:\", metrics.accuracy_score(y_test, y_pred) * 100)\n",
    "    y_osa.append(metrics.accuracy_score(y_test, y_pred) * 100)\n",
    "    \n",
    "fig = plt.figure()\n",
    "ax = fig.add_subplot()\n",
    "y = y_osa\n",
    "xt = x_osa\n",
    "ax.stem(xt, y)\n",
    "plt.xlabel('Max tree depth')\n",
    "plt.ylabel('Accuracy [%]')\n",
    "plt.xticks(x_osa)"
   ]
  },
  {
   "cell_type": "code",
   "execution_count": 6,
   "id": "88ffd135",
   "metadata": {},
   "outputs": [
    {
     "name": "stdout",
     "output_type": "stream",
     "text": [
      "Tacnost za maksimalan broj odlika koje se razmatraju 2 je: 82.7906976744186\n",
      "Tacnost za maksimalan broj odlika koje se razmatraju 3 je: 81.86046511627907\n",
      "Tacnost za maksimalan broj odlika koje se razmatraju 4 je: 81.3953488372093\n",
      "Tacnost za maksimalan broj odlika koje se razmatraju 5 je: 80.46511627906978\n",
      "Tacnost za maksimalan broj odlika koje se razmatraju 6 je: 80.93023255813954\n"
     ]
    },
    {
     "data": {
      "image/png": "[encoded data removed]",
      "text/plain": [
       "<Figure size 640x480 with 1 Axes>"
      ]
     },
     "metadata": {},
     "output_type": "display_data"
    }
   ],
   "source": [
    "optimal_max_features_pt2 = [2, 3, 4, 5, 6]\n",
    "yy_osa = []\n",
    "xx_osa = optimal_max_features_pt2\n",
    "\n",
    "for i in range(0, len(optimal_max_features_pt2)):\n",
    "    clf = RandomForestClassifier(max_depth = optimal_max_depth, max_features = optimal_max_features_pt2[i], n_estimators = optimal_n_estimators)\n",
    "\n",
    "    clf.fit(X_train, y_train.ravel())\n",
    "\n",
    "    y_pred = clf.predict(X_test)\n",
    "\n",
    "    print(\"Tacnost za maksimalan broj odlika koje se razmatraju\", optimal_max_features_pt2[i], \"je:\", metrics.accuracy_score(y_test, y_pred) * 100)\n",
    "    yy_osa.append(metrics.accuracy_score(y_test, y_pred) * 100)\n",
    "    \n",
    "plt.stem(xx_osa, yy_osa)\n",
    "plt.xlabel('Max tree depth')\n",
    "plt.ylabel('Accuracy [%]')\n",
    "plt.show()"
   ]
  },
  {
   "cell_type": "code",
   "execution_count": 7,
   "id": "72535909",
   "metadata": {},
   "outputs": [
    {
     "name": "stdout",
     "output_type": "stream",
     "text": [
      "Tacnost za broj estimatora 10 je: 80.93023255813954\n",
      "Tacnost za broj estimatora 17 je: 80.46511627906978\n",
      "Tacnost za broj estimatora 24 je: 80.0\n",
      "Tacnost za broj estimatora 32 je: 80.93023255813954\n",
      "Tacnost za broj estimatora 39 je: 80.93023255813954\n",
      "Tacnost za broj estimatora 46 je: 81.3953488372093\n",
      "Tacnost za broj estimatora 54 je: 80.46511627906978\n",
      "Tacnost za broj estimatora 61 je: 80.0\n",
      "Tacnost za broj estimatora 68 je: 80.46511627906978\n",
      "Tacnost za broj estimatora 76 je: 79.06976744186046\n",
      "Tacnost za broj estimatora 83 je: 80.93023255813954\n",
      "Tacnost za broj estimatora 91 je: 81.86046511627907\n",
      "Tacnost za broj estimatora 98 je: 80.0\n",
      "Tacnost za broj estimatora 105 je: 81.3953488372093\n",
      "Tacnost za broj estimatora 113 je: 80.46511627906978\n",
      "Tacnost za broj estimatora 120 je: 80.93023255813954\n",
      "Tacnost za broj estimatora 127 je: 81.86046511627907\n",
      "Tacnost za broj estimatora 135 je: 81.3953488372093\n",
      "Tacnost za broj estimatora 142 je: 80.46511627906978\n",
      "Tacnost za broj estimatora 150 je: 80.93023255813954\n"
     ]
    },
    {
     "data": {
      "text/plain": [
       "([<matplotlib.axis.XTick at 0x1fa04c5e0d0>,\n",
       "  <matplotlib.axis.XTick at 0x1fa04c5e100>,\n",
       "  <matplotlib.axis.XTick at 0x1fa04c5ee20>,\n",
       "  <matplotlib.axis.XTick at 0x1fa04a4f0a0>,\n",
       "  <matplotlib.axis.XTick at 0x1fa04a4f6d0>,\n",
       "  <matplotlib.axis.XTick at 0x1fa04a4fe20>,\n",
       "  <matplotlib.axis.XTick at 0x1fa04a4fac0>,\n",
       "  <matplotlib.axis.XTick at 0x1fa04b87490>,\n",
       "  <matplotlib.axis.XTick at 0x1fa04b87be0>,\n",
       "  <matplotlib.axis.XTick at 0x1fa04b89370>,\n",
       "  <matplotlib.axis.XTick at 0x1fa04b89ac0>,\n",
       "  <matplotlib.axis.XTick at 0x1fa04b8c250>,\n",
       "  <matplotlib.axis.XTick at 0x1fa04b8c9a0>,\n",
       "  <matplotlib.axis.XTick at 0x1fa04b89880>,\n",
       "  <matplotlib.axis.XTick at 0x1fa04b87eb0>,\n",
       "  <matplotlib.axis.XTick at 0x1fa0483cc40>,\n",
       "  <matplotlib.axis.XTick at 0x1fa04d89490>,\n",
       "  <matplotlib.axis.XTick at 0x1fa04b8c2b0>,\n",
       "  <matplotlib.axis.XTick at 0x1fa04b9a520>,\n",
       "  <matplotlib.axis.XTick at 0x1fa04b8cdf0>],\n",
       " [Text(0, 0, ''),\n",
       "  Text(0, 0, ''),\n",
       "  Text(0, 0, ''),\n",
       "  Text(0, 0, ''),\n",
       "  Text(0, 0, ''),\n",
       "  Text(0, 0, ''),\n",
       "  Text(0, 0, ''),\n",
       "  Text(0, 0, ''),\n",
       "  Text(0, 0, ''),\n",
       "  Text(0, 0, ''),\n",
       "  Text(0, 0, ''),\n",
       "  Text(0, 0, ''),\n",
       "  Text(0, 0, ''),\n",
       "  Text(0, 0, ''),\n",
       "  Text(0, 0, ''),\n",
       "  Text(0, 0, ''),\n",
       "  Text(0, 0, ''),\n",
       "  Text(0, 0, ''),\n",
       "  Text(0, 0, ''),\n",
       "  Text(0, 0, '')])"
      ]
     },
     "execution_count": 7,
     "metadata": {},
     "output_type": "execute_result"
    },
    {
     "data": {
      "image/png": "[encoded data removed]",
      "text/plain": [
       "<Figure size 640x480 with 1 Axes>"
      ]
     },
     "metadata": {},
     "output_type": "display_data"
    }
   ],
   "source": [
    "optimal_n_estimators_pt2 = np.linspace(10, 150, 20, dtype = int)\n",
    "yyy_osa = []\n",
    "xxx_osa = optimal_n_estimators_pt2\n",
    "\n",
    "for i in range(0, len(optimal_n_estimators_pt2)):\n",
    "    clf = RandomForestClassifier(max_depth = optimal_max_depth, max_features = optimal_max_features, n_estimators = optimal_n_estimators_pt2[i])\n",
    "\n",
    "    clf.fit(X_train, y_train.ravel())\n",
    "\n",
    "    y_pred = clf.predict(X_test)\n",
    "\n",
    "    print(\"Tacnost za broj estimatora\", optimal_n_estimators_pt2[i], \"je:\", metrics.accuracy_score(y_test, y_pred) * 100)\n",
    "    yyy_osa.append(metrics.accuracy_score(y_test, y_pred) * 100)\n",
    "    \n",
    "fig = plt.figure()\n",
    "ax = fig.add_subplot()\n",
    "yy = yyy_osa\n",
    "xt = xxx_osa\n",
    "ax.stem(xt, yy)\n",
    "plt.xlabel('Number of trees')\n",
    "plt.ylabel('Accuracy [%]')\n",
    "plt.xticks(xxx_osa)"
   ]
  }
 ],
 "metadata": {
  "kernelspec": {
   "display_name": "Python 3 (ipykernel)",
   "language": "python",
   "name": "python3"
  },
  "language_info": {
   "codemirror_mode": {
    "name": "ipython",
    "version": 3
   },
   "file_extension": ".py",
   "mimetype": "text/x-python",
   "name": "python",
   "nbconvert_exporter": "python",
   "pygments_lexer": "ipython3",
   "version": "3.9.13"
  }
 },
 "nbformat": 4,
 "nbformat_minor": 5
}
